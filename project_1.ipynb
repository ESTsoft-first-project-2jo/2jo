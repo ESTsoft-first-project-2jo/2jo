{
 "cells": [
  {
   "cell_type": "code",
   "execution_count": 2,
   "metadata": {},
   "outputs": [
    {
     "name": "stderr",
     "output_type": "stream",
     "text": [
      "C:\\Users\\LSNAu\\AppData\\Local\\Temp\\ipykernel_55776\\290852887.py:3: DtypeWarning: Columns (7,8,15,19,20) have mixed types. Specify dtype option on import or set low_memory=False.\n",
      "  df = pd.read_csv('C:/Users/LSNAu/Desktop/seoul_apratment_price.csv', encoding='cp949')\n"
     ]
    },
    {
     "name": "stdout",
     "output_type": "stream",
     "text": [
      "<class 'pandas.core.frame.DataFrame'>\n",
      "RangeIndex: 1331744 entries, 0 to 1331743\n",
      "Data columns (total 21 columns):\n",
      " #   Column            Non-Null Count    Dtype  \n",
      "---  ------            --------------    -----  \n",
      " 0   접수연도              1331744 non-null  int64  \n",
      " 1   자치구코드             1331744 non-null  int64  \n",
      " 2   자치구명              1331743 non-null  object \n",
      " 3   법정동코드             1331744 non-null  int64  \n",
      " 4   법정동명              1331744 non-null  object \n",
      " 5   지번구분              1331617 non-null  float64\n",
      " 6   지번구분명             1331617 non-null  object \n",
      " 7   본번                1331617 non-null  object \n",
      " 8   부번                1331617 non-null  object \n",
      " 9   건물명               1331744 non-null  object \n",
      " 10  계약일               1331744 non-null  int64  \n",
      " 11  물건금액(만원)          1331744 non-null  int64  \n",
      " 12  건물면적(㎡)           1331744 non-null  float64\n",
      " 13  토지면적(㎡)           366930 non-null   float64\n",
      " 14  층                 1331744 non-null  int64  \n",
      " 15  권리구분              55903 non-null    object \n",
      " 16  취소일               7028 non-null     float64\n",
      " 17  건축년도              1331742 non-null  float64\n",
      " 18  건물용도              1331744 non-null  object \n",
      " 19  신고구분              54298 non-null    object \n",
      " 20  신고한 개업공인중개사 시군구명  49283 non-null    object \n",
      "dtypes: float64(5), int64(6), object(10)\n",
      "memory usage: 213.4+ MB\n"
     ]
    }
   ],
   "source": [
    "import pandas as pd\n",
    "\n",
    "df = pd.read_csv('C:/Users/LSNAu/Desktop/seoul_apratment_price.csv', encoding='cp949')\n",
    "df.info()"
   ]
  },
  {
   "cell_type": "code",
   "execution_count": 6,
   "metadata": {},
   "outputs": [
    {
     "data": {
      "text/plain": [
       "337"
      ]
     },
     "execution_count": 6,
     "metadata": {},
     "output_type": "execute_result"
    }
   ],
   "source": [
    "df['법정동명'].nunique()"
   ]
  },
  {
   "cell_type": "code",
   "execution_count": 8,
   "metadata": {},
   "outputs": [
    {
     "name": "stderr",
     "output_type": "stream",
     "text": [
      "Geocoding: 100%|██████████| 337/337 [00:05<00:00, 61.32it/s]\n"
     ]
    },
    {
     "name": "stdout",
     "output_type": "stream",
     "text": [
      "<class 'pandas.core.frame.DataFrame'>\n",
      "RangeIndex: 1331744 entries, 0 to 1331743\n",
      "Data columns (total 23 columns):\n",
      " #   Column            Non-Null Count    Dtype  \n",
      "---  ------            --------------    -----  \n",
      " 0   접수연도              1331744 non-null  int64  \n",
      " 1   자치구코드             1331744 non-null  int64  \n",
      " 2   자치구명              1331743 non-null  object \n",
      " 3   법정동코드             1331744 non-null  int64  \n",
      " 4   법정동명              1331744 non-null  object \n",
      " 5   지번구분              1331617 non-null  float64\n",
      " 6   지번구분명             1331617 non-null  object \n",
      " 7   본번                1331617 non-null  object \n",
      " 8   부번                1331617 non-null  object \n",
      " 9   건물명               1331744 non-null  object \n",
      " 10  계약일               1331744 non-null  int64  \n",
      " 11  물건금액(만원)          1331744 non-null  int64  \n",
      " 12  건물면적(㎡)           1331744 non-null  float64\n",
      " 13  토지면적(㎡)           366930 non-null   float64\n",
      " 14  층                 1331744 non-null  int64  \n",
      " 15  권리구분              55903 non-null    object \n",
      " 16  취소일               7028 non-null     float64\n",
      " 17  건축년도              1331742 non-null  float64\n",
      " 18  건물용도              1331744 non-null  object \n",
      " 19  신고구분              54298 non-null    object \n",
      " 20  신고한 개업공인중개사 시군구명  49283 non-null    object \n",
      " 21  위도                1331566 non-null  float64\n",
      " 22  경도                1331566 non-null  float64\n",
      "dtypes: float64(7), int64(6), object(10)\n",
      "memory usage: 233.7+ MB\n"
     ]
    }
   ],
   "source": [
    "import googlemaps\n",
    "from tqdm import tqdm\n",
    "from concurrent.futures import ThreadPoolExecutor, as_completed\n",
    "import pandas as pd\n",
    "\n",
    "# Google Maps 클라이언트 초기화\n",
    "gmaps = googlemaps.Client(key='Enter_API')\n",
    "\n",
    "# 고유한 법정동명 추출\n",
    "unique_addresses = df['법정동명'].unique()\n",
    "\n",
    "def geocode_address(address):\n",
    "    geocode_result = gmaps.geocode(address)\n",
    "    if geocode_result:\n",
    "        latitude = geocode_result[0]['geometry']['location']['lat']\n",
    "        longitude = geocode_result[0]['geometry']['location']['lng']\n",
    "        return (address, latitude, longitude)\n",
    "    else:\n",
    "        return (address, None, None)\n",
    "\n",
    "# ThreadPoolExecutor를 사용하여 요청 병렬 처리\n",
    "results = []\n",
    "with ThreadPoolExecutor(max_workers=14) as executor:\n",
    "    futures = {executor.submit(geocode_address, address): address for address in unique_addresses}\n",
    "    for future in tqdm(as_completed(futures), total=len(futures), desc=\"Geocoding\"):\n",
    "        result = future.result()\n",
    "        results.append(result)\n",
    "\n",
    "# 결과를 DataFrame으로 변환\n",
    "results_df = pd.DataFrame(results, columns=['법정동명', '위도', '경도'])\n",
    "\n",
    "# 원본 df에 위도와 경도 매핑\n",
    "df = pd.merge(df, results_df, on='법정동명', how='left')\n",
    "\n",
    "# 결과 출력\n",
    "df.info()"
   ]
  },
  {
   "cell_type": "code",
   "execution_count": 10,
   "metadata": {},
   "outputs": [],
   "source": [
    "df.to_csv('seoul_apratment_price_lalo.csv', encoding='utf-8')"
   ]
  }
 ],
 "metadata": {
  "kernelspec": {
   "display_name": "Python 3",
   "language": "python",
   "name": "python3"
  },
  "language_info": {
   "codemirror_mode": {
    "name": "ipython",
    "version": 3
   },
   "file_extension": ".py",
   "mimetype": "text/x-python",
   "name": "python",
   "nbconvert_exporter": "python",
   "pygments_lexer": "ipython3",
   "version": "3.10.9"
  }
 },
 "nbformat": 4,
 "nbformat_minor": 2
}
