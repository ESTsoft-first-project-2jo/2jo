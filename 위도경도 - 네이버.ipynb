{
  "nbformat": 4,
  "nbformat_minor": 0,
  "metadata": {
    "colab": {
      "provenance": [],
      "machine_shape": "hm",
      "gpuType": "A100"
    },
    "kernelspec": {
      "name": "python3",
      "display_name": "Python 3"
    },
    "language_info": {
      "name": "python"
    },
    "accelerator": "GPU"
  },
  "cells": [
    {
      "cell_type": "code",
      "execution_count": null,
      "metadata": {
        "colab": {
          "base_uri": "https://localhost:8080/",
          "height": 178,
          "referenced_widgets": [
            "66e1d3327425422b8ee046092d8beb7b",
            "cf76849e1bc8463eba469728a15c9bbb",
            "7c4c3bf56a4345e2977d082943682f62",
            "94046335a39a47fa8ad9f9eec64eeb21",
            "7bb65c5124ce4549a796051f1a4714f7",
            "e524b4a899c14904a2158aaad5121192",
            "104f017ac894459889c296d13c39d2ca",
            "471977b627854f649cad11415e4310a9",
            "c29b6b946cf3488bb437c6a5f2ef3307",
            "cef3643f3ea247eaa51706a4ddb3999d",
            "520099cfccce48ba8a58eeb68df5c243"
          ]
        },
        "id": "OmmRamwqvvGR",
        "outputId": "686e3040-44d1-437d-a091-ff0224a23873"
      },
      "outputs": [
        {
          "output_type": "stream",
          "name": "stderr",
          "text": [
            "<ipython-input-2-4cbb234a9502>:69: SettingWithCopyWarning: \n",
            "A value is trying to be set on a copy of a slice from a DataFrame.\n",
            "Try using .loc[row_indexer,col_indexer] = value instead\n",
            "\n",
            "See the caveats in the documentation: https://pandas.pydata.org/pandas-docs/stable/user_guide/indexing.html#returning-a-view-versus-a-copy\n",
            "  unique_address_df['address_details'] = unique_address_df.apply(lambda row: get_address_details(row['Address'], row['도로명주소']), axis=1)\n"
          ]
        },
        {
          "output_type": "display_data",
          "data": {
            "text/plain": [
              "  0%|          | 0/16557 [00:00<?, ?it/s]"
            ],
            "application/vnd.jupyter.widget-view+json": {
              "version_major": 2,
              "version_minor": 0,
              "model_id": "66e1d3327425422b8ee046092d8beb7b"
            }
          },
          "metadata": {}
        },
        {
          "output_type": "stream",
          "name": "stdout",
          "text": [
            "총 소요 시간: 8722.327285051346 초\n"
          ]
        }
      ],
      "source": [
        "import requests\n",
        "from typing import Dict, Union, Optional\n",
        "\n",
        "NAVER_API_URL: str = 'https://naveropenapi.apigw.ntruss.com/map-geocode/v2/geocode'\n",
        "NAVER_API_HEADERS: Dict[str, str] = {\n",
        "    'X-NCP-APIGW-API-KEY-ID': 'Private_ID',\n",
        "    'X-NCP-APIGW-API-KEY': 'Private_KEY'\n",
        "}\n",
        "\n",
        "def request_naver_api(address: str) -> Dict:\n",
        "    try:\n",
        "        response = requests.get(\n",
        "            NAVER_API_URL,\n",
        "            params={'query': address},\n",
        "            headers=NAVER_API_HEADERS\n",
        "        )\n",
        "        data: Dict = response.json()\n",
        "        return data\n",
        "    except Exception as error:\n",
        "        raise error\n",
        "\n",
        "def parse_address_data(data: Dict) -> Union[Dict[str, str], bool]:\n",
        "    if data['meta']['totalCount'] == 0:\n",
        "        return False\n",
        "\n",
        "    Longitude: str = data['addresses'][0]['x']\n",
        "    Latitude: str = data['addresses'][0]['y']\n",
        "\n",
        "    return {'Longitude': Longitude, 'Latitude': Latitude}\n",
        "\n",
        "def get_address_details(add1: str, add2: str) -> Dict[str, str]:\n",
        "    data: Dict = request_naver_api(add1)\n",
        "    result1: Union[Dict[str, str], bool] = parse_address_data(data)\n",
        "\n",
        "    if not result1:\n",
        "        data = request_naver_api(add2)\n",
        "        result2: Union[Dict[str, str], bool] = parse_address_data(data)\n",
        "\n",
        "        if not result2:\n",
        "            return {'x': \"\", 'y': \"\"}\n",
        "\n",
        "        return result2\n",
        "\n",
        "    return result1\n",
        "\n",
        "import pandas as pd\n",
        "\n",
        "df = pd.read_csv('/content/seoul_apart_price.csv')\n",
        "#encoding='cp949\n",
        "'\n",
        "df['address'] = df.apply(lambda row: get_address_details(row['지번주소'], row['도로명주소']), axis=1)\n",
        "\n",
        "#df을 딕셔너리로 변환\n",
        "rows_list = df.to_dict('records')\n",
        "\n",
        "merged_list = []\n",
        "\n",
        "for row in rows_list:\n",
        "\n",
        "    address = row.pop('address')\n",
        "    merged = {**row, **address}\n",
        "    merged_list.append(merged)\n",
        "\n",
        "new_df = pd.DataFrame(merged_list)\n",
        "\n",
        "# 새 DataFrame을 CSV 파일로 저장\n",
        "new_df.to_csv('/content/seoul_apart_price.csv', index=False)"
      ]
    }
  ]
}