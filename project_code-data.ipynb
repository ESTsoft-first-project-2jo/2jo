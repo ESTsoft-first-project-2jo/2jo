{
 "cells": [
  {
   "cell_type": "code",
   "execution_count": null,
   "metadata": {},
   "outputs": [],
   "source": [
    "'''\n",
    "필요한 라이브러리를 불러옵니다\n",
    "'''\n",
    "\n",
    "import pandas as pd\n",
    "import numpy as np\n",
    "import matplotlib.pyplot as plt\n",
    "import seaborn as sns"
   ]
  },
  {
   "cell_type": "code",
   "execution_count": null,
   "metadata": {},
   "outputs": [],
   "source": [
    "df = pd.read_csv('apartment.csv', encoding='cp949') #아파트 데이터를 불러옵니다."
   ]
  },
  {
   "cell_type": "markdown",
   "metadata": {},
   "source": [
    "20240101로 되어있는 데이터를 2024:년과 202401:월로 분리합니다."
   ]
  },
  {
   "cell_type": "code",
   "execution_count": null,
   "metadata": {},
   "outputs": [],
   "source": [
    "df['년'] = df['계약일']//10000\n",
    "df['년월'] = df['계약일']//100 "
   ]
  },
  {
   "cell_type": "markdown",
   "metadata": {},
   "source": [
    "2020년부터의 데이터만 사용합니다."
   ]
  },
  {
   "cell_type": "code",
   "execution_count": null,
   "metadata": {},
   "outputs": [],
   "source": [
    "df = df[df['년'] >= 2020]"
   ]
  },
  {
   "cell_type": "code",
   "execution_count": null,
   "metadata": {},
   "outputs": [],
   "source": [
    "df.info()"
   ]
  },
  {
   "cell_type": "markdown",
   "metadata": {},
   "source": [
    "결측치가 많거나, 겹치는 변수(자치구명과 자치구코드), 영향을 주지 않는 변수등은 제거하였습니다. "
   ]
  },
  {
   "cell_type": "code",
   "execution_count": null,
   "metadata": {},
   "outputs": [],
   "source": [
    "df = df[['자치구명', '법정동명', '본번', '부번', '건물명', '계약일', '물건금액(만원)', '건물면적(㎡)', '층', '건축년도', '년', '년월']]"
   ]
  },
  {
   "cell_type": "markdown",
   "metadata": {},
   "source": [
    "본번과 부번을 이용해서 지번주소를 만듭니다."
   ]
  },
  {
   "cell_type": "code",
   "execution_count": null,
   "metadata": {},
   "outputs": [],
   "source": [
    "def transform_address(row):\n",
    "    main_no = str(row['본번'])\n",
    "    sub_no = (row['부번'])\n",
    "    sub_no_str = '' if sub_no == 0 else f'-{sub_no}'\n",
    "    return f\"{row['자치구명']} {row['법정동명']} {main_no}{sub_no_str}\"\n",
    "\n",
    "df['주소'] = df.apply(transform_address, axis=1)"
   ]
  },
  {
   "cell_type": "markdown",
   "metadata": {},
   "source": [
    "건축년도는 연식으로 바꾸기 위해, 건축년도를 매매년에서 빼줍니다."
   ]
  },
  {
   "cell_type": "code",
   "execution_count": null,
   "metadata": {},
   "outputs": [],
   "source": [
    "df['건축년도'] = df['년'] - df['건축년도']"
   ]
  },
  {
   "cell_type": "markdown",
   "metadata": {},
   "source": [
    "영어로 columns의 이름을 바꿉니다."
   ]
  },
  {
   "cell_type": "code",
   "execution_count": null,
   "metadata": {},
   "outputs": [],
   "source": [
    "new_column_names = {'자치구명': 'Gu', '법정동명': 'Dong','건물명': 'Name', '계약일': 'Date', '물건금액(만원)': 'Price', '건물면적(㎡)': 'Area', '층': 'Floor', '건축년도': 'Building Year', '주소' : \"Address\", '년' : 'Year', '년월': 'Month'}\n",
    "df2 = df.rename(columns=new_column_names)"
   ]
  },
  {
   "cell_type": "code",
   "execution_count": null,
   "metadata": {},
   "outputs": [],
   "source": [
    "df2.drop(columns=['본번', '부번'], inplace=True)"
   ]
  },
  {
   "cell_type": "markdown",
   "metadata": {},
   "source": [
    "인구 데이터를 불러옵니다."
   ]
  },
  {
   "cell_type": "code",
   "execution_count": null,
   "metadata": {},
   "outputs": [],
   "source": [
    "Population = pd.read_csv('Population.csv',encoding='cp949')"
   ]
  },
  {
   "cell_type": "markdown",
   "metadata": {},
   "source": [
    "0~12: 어린이\n",
    "13~24 : 청소년\n",
    "25~40 : 청년\n",
    "41~65: 중장년\n",
    "66~ : 노년\n",
    "\n",
    "으로 매핑합니다."
   ]
  },
  {
   "cell_type": "code",
   "execution_count": null,
   "metadata": {},
   "outputs": [],
   "source": [
    "population = Population[Population['시도명'] == '서울특별시'] \n",
    "\n",
    "population['어린이인구'] = population[[f\"{age}세남자\" for age in range(13)] + [f\"{age}세여자\" for age in range(13)]].sum(axis=1)\n",
    "population['청소년인구'] = population[[f\"{age}세남자\" for age in range(13, 25)] + [f\"{age}세여자\" for age in range(13, 25)]].sum(axis=1)\n",
    "population['청년인구'] = population[[f\"{age}세남자\" for age in range(25, 41)] + [f\"{age}세여자\" for age in range(25, 41)]].sum(axis=1)\n",
    "population['중장년인구'] = population[[f\"{age}세남자\" for age in range(41, 66)] + [f\"{age}세여자\" for age in range(41, 66)]].sum(axis=1)\n",
    "population['노년인구'] = population[[f\"{age}세남자\" for age in range(66, 109)] + [f\"{age}세여자\" for age in range(66, 109)]].sum(axis=1)"
   ]
  },
  {
   "cell_type": "code",
   "execution_count": null,
   "metadata": {},
   "outputs": [],
   "source": [
    "population = population[['읍면동명', '계', '어린이인구', '청소년인구', '청년인구', '중장년인구', '노년인구']]\n",
    "population2 = population.rename(columns={'읍면동명':'Dong', '계':'Total Population', '어린이인구':'Children', '청소년인구':'Adolescent', '청년인구':'Youth', '중장년인구':'Middle-Aged', '노년인구':'Old Age'})"
   ]
  },
  {
   "cell_type": "code",
   "execution_count": null,
   "metadata": {},
   "outputs": [],
   "source": [
    "merged_df = pd.merge(df2, population2, on='Dong', how='left')"
   ]
  },
  {
   "cell_type": "markdown",
   "metadata": {},
   "source": [
    "인구를 직접 쓰기보다, 비율로 저장합니다."
   ]
  },
  {
   "cell_type": "code",
   "execution_count": null,
   "metadata": {},
   "outputs": [],
   "source": [
    "merged_df['Children'] = merged_df['Children']/merged_df['Total Population']\n",
    "merged_df['Youth'] = merged_df['Youth']/merged_df['Total Population']\n",
    "merged_df['Adolescent'] = merged_df['Adolescent']/merged_df['Total Population']\n",
    "merged_df['Middle-Aged'] = merged_df['Middle-Aged']/merged_df['Total Population']\n",
    "merged_df['Old Age'] = merged_df['Old Age']/merged_df['Total Population']"
   ]
  },
  {
   "cell_type": "markdown",
   "metadata": {},
   "source": [
    "아래는 간단한 데이터 합치는 과정입니다."
   ]
  },
  {
   "cell_type": "code",
   "execution_count": null,
   "metadata": {},
   "outputs": [],
   "source": [
    "consumption = pd.read_csv('consumption.csv',encoding='utf-8')"
   ]
  },
  {
   "cell_type": "code",
   "execution_count": null,
   "metadata": {},
   "outputs": [],
   "source": [
    "consumption.drop(0, inplace=True)\n",
    "consumption.drop(columns='경제활동별(1)', inplace=True)\n",
    "consumption.rename(columns={\"자치구(1)\":'Gu', '2021':'Consumption'}, inplace=True)"
   ]
  },
  {
   "cell_type": "code",
   "execution_count": null,
   "metadata": {},
   "outputs": [],
   "source": [
    "merged_df2 = pd.merge(merged_df,consumption, how='left', on='Gu')"
   ]
  },
  {
   "cell_type": "code",
   "execution_count": null,
   "metadata": {},
   "outputs": [],
   "source": [
    "merged_df2['Consumption'] = merged_df2['Consumption'].astype(float)/10000\n",
    "merged_df2['Consumption'] = np.log1p(merged_df2['Consumption'])"
   ]
  },
  {
   "cell_type": "code",
   "execution_count": null,
   "metadata": {},
   "outputs": [],
   "source": [
    "LPI = pd.read_csv('LPI.csv',encoding='utf-8')\n",
    "API = pd.read_csv('Actual_Price_Index.csv',encoding='utf-8')\n",
    "interest = pd.read_csv('interest rate.csv', encoding='utf-8')\n",
    "jeonse = pd.read_csv('jeonse.csv', encoding='cp949')"
   ]
  },
  {
   "cell_type": "code",
   "execution_count": null,
   "metadata": {},
   "outputs": [],
   "source": [
    "LPI['시점'] = (LPI['시점']*100).astype(int)"
   ]
  },
  {
   "cell_type": "code",
   "execution_count": null,
   "metadata": {},
   "outputs": [],
   "source": [
    "LPI.rename(columns={'시점':'Month', '시도별':'Seoul', '총지수':'Price Index','생활물가지수':'Living Price Index'}, inplace=True)"
   ]
  },
  {
   "cell_type": "code",
   "execution_count": null,
   "metadata": {},
   "outputs": [],
   "source": [
    "merged_df3 = pd.merge(merged_df2, LPI, on='Month', how='left')"
   ]
  },
  {
   "cell_type": "code",
   "execution_count": null,
   "metadata": {},
   "outputs": [],
   "source": [
    "merged_df3.drop(columns=['Price Index', 'Seoul'],axis=1,inplace=True)"
   ]
  },
  {
   "cell_type": "code",
   "execution_count": null,
   "metadata": {},
   "outputs": [],
   "source": [
    "API['시점'] = API['시점'].str[:4] + API['시점'].str[5:]"
   ]
  },
  {
   "cell_type": "code",
   "execution_count": null,
   "metadata": {},
   "outputs": [],
   "source": [
    "API['시점'] = API['시점'].astype(str)\n",
    "API['Month'] = pd.to_numeric(API['시점'], errors='coerce')\n",
    "merged_df4 = pd.merge(merged_df3, API, on='Month', how='left')"
   ]
  },
  {
   "cell_type": "code",
   "execution_count": null,
   "metadata": {},
   "outputs": [],
   "source": [
    "merged_df4.drop(columns=['항목','시점'], axis=1, inplace=True)"
   ]
  },
  {
   "cell_type": "code",
   "execution_count": null,
   "metadata": {},
   "outputs": [],
   "source": [
    "df4 = merged_df4.rename(columns={'서울': 'Actual Price Index'})"
   ]
  },
  {
   "cell_type": "code",
   "execution_count": null,
   "metadata": {},
   "outputs": [],
   "source": [
    "interest['날짜'] = interest['날짜'].str[:6]\n",
    "interest['날짜'] = interest['날짜'].astype(int)\n",
    "merged_df5 = pd.merge(df4, interest, left_on='Month', right_on='날짜', how='left')"
   ]
  },
  {
   "cell_type": "code",
   "execution_count": null,
   "metadata": {},
   "outputs": [],
   "source": [
    "merged_df5.drop('날짜', axis=1, inplace=True)"
   ]
  },
  {
   "cell_type": "code",
   "execution_count": null,
   "metadata": {},
   "outputs": [],
   "source": [
    "df5 = merged_df5.rename(columns={'기준금리': 'Interest Rate'})"
   ]
  },
  {
   "cell_type": "markdown",
   "metadata": {},
   "source": [
    "네이버 지도 API를 이용해 주소로 위도, 경도를 구해줍니다."
   ]
  },
  {
   "cell_type": "code",
   "execution_count": null,
   "metadata": {},
   "outputs": [],
   "source": [
    "import requests\n",
    "from typing import Dict, Union, Optional\n",
    "\n",
    "NAVER_API_URL: str = 'https://naveropenapi.apigw.ntruss.com/map-geocode/v2/geocode'\n",
    "NAVER_API_HEADERS: Dict[str, str] = {\n",
    "    'X-NCP-APIGW-API-KEY-ID': 'Private_ID',\n",
    "    'X-NCP-APIGW-API-KEY': 'Private_KEY'\n",
    "}\n",
    "\n",
    "def request_naver_api(address: str) -> Dict:\n",
    "    try:\n",
    "        response = requests.get(\n",
    "            NAVER_API_URL,\n",
    "            params={'query': address},\n",
    "            headers=NAVER_API_HEADERS\n",
    "        )\n",
    "        data: Dict = response.json()\n",
    "        return data\n",
    "    except Exception as error:\n",
    "        raise error\n",
    "\n",
    "def parse_address_data(data: Dict) -> Union[Dict[str, str], bool]:\n",
    "    if data['meta']['totalCount'] == 0:\n",
    "        return False\n",
    "\n",
    "    Longitude: str = data['addresses'][0]['x']\n",
    "    Latitude: str = data['addresses'][0]['y']\n",
    "\n",
    "    return {'Longitude': Longitude, 'Latitude': Latitude}\n",
    "\n",
    "def get_address_details(add1: str, add2: str) -> Dict[str, str]:\n",
    "    data: Dict = request_naver_api(add1)\n",
    "    result1: Union[Dict[str, str], bool] = parse_address_data(data)\n",
    "\n",
    "    if not result1:\n",
    "        data = request_naver_api(add2)\n",
    "        result2: Union[Dict[str, str], bool] = parse_address_data(data)\n",
    "\n",
    "        if not result2:\n",
    "            return {'x': \"\", 'y': \"\"}\n",
    "\n",
    "        return result2\n",
    "\n",
    "    return result1\n",
    "\n",
    "import pandas as pd\n",
    "\n",
    "df = pd.read_csv('/content/seoul_apart_price.csv')\n",
    "#encoding='cp949'\n",
    "\n",
    "df['address'] = df.apply(lambda row: get_address_details(row['지번주소'], row['도로명주소']), axis=1)\n",
    "\n",
    "#df을 딕셔너리로 변환\n",
    "rows_list = df.to_dict('records')\n",
    "\n",
    "merged_list = []\n",
    "\n",
    "for row in rows_list:\n",
    "\n",
    "    address = row.pop('address')\n",
    "    merged = {**row, **address}\n",
    "    merged_list.append(merged)\n",
    "\n",
    "new_df = pd.DataFrame(merged_list)\n",
    "\n",
    "# 새 DataFrame을 CSV 파일로 저장\n",
    "new_df.to_csv('/content/seoul_apart_price.csv', index=False)"
   ]
  },
  {
   "cell_type": "markdown",
   "metadata": {},
   "source": [
    "API를 돌리는데 시간이 소요되어 위도, 경도를 매핑한 다음 파일에서 이어서 하겠습니다."
   ]
  }
 ],
 "metadata": {
  "kernelspec": {
   "display_name": "Python 3",
   "language": "python",
   "name": "python3"
  },
  "language_info": {
   "codemirror_mode": {
    "name": "ipython",
    "version": 3
   },
   "file_extension": ".py",
   "mimetype": "text/x-python",
   "name": "python",
   "nbconvert_exporter": "python",
   "pygments_lexer": "ipython3",
   "version": "3.10.9"
  }
 },
 "nbformat": 4,
 "nbformat_minor": 2
}
