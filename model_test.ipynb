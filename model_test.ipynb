{
 "cells": [
  {
   "cell_type": "code",
   "execution_count": 1,
   "metadata": {},
   "outputs": [],
   "source": [
    "from sklearn.model_selection import train_test_split\n",
    "from sklearn.preprocessing import StandardScaler\n",
    "from sklearn.metrics import mean_squared_error, mean_absolute_error, r2_score\n",
    "from sklearn.neural_network import MLPRegressor\n",
    "from lightgbm import LGBMRegressor\n",
    "from sklearn.ensemble import StackingRegressor\n",
    "from sklearn.linear_model import LinearRegression\n",
    "import numpy as np\n",
    "import pandas as pd\n"
   ]
  },
  {
   "cell_type": "code",
   "execution_count": 2,
   "metadata": {},
   "outputs": [],
   "source": [
    "df = pd.read_csv('price_list.csv')"
   ]
  },
  {
   "cell_type": "code",
   "execution_count": 3,
   "metadata": {},
   "outputs": [],
   "source": [
    "df['Gu_encoding'] = df['Gu'].astype('category').cat.codes + 1\n",
    "df['Dong_encoding'] = df.groupby('Gu').cumcount() + 1\n",
    "df['Gu_encoding'] = df['Gu_encoding'].astype('int64')\n",
    "df['Dong'] = df['Gu_encoding'] * 100 + df['Dong_encoding']\n",
    "\n",
    "#동을 구에 맞게 인코딩합니다."
   ]
  },
  {
   "cell_type": "code",
   "execution_count": 4,
   "metadata": {},
   "outputs": [],
   "source": [
    "X = df[['Dong', 'Building Year', 'Floor', 'Actual Price Index', 'Living Price Index','Interest Rate','Distance to MC','Distance to NS','Bus Station Within 500m']]\n",
    "y = df['Price per Area Log Scale']"
   ]
  },
  {
   "cell_type": "code",
   "execution_count": 7,
   "metadata": {},
   "outputs": [],
   "source": [
    "X_train_test, X_val_test, y_train_test, y_val_test = train_test_split(X, y, test_size=0.2, random_state=42)\n",
    "\n",
    "# 그 다음, 훈련 세트를 다시 훈련 세트와 검증 세트로 분할\n",
    "X_train, X_val, y_train, y_val = train_test_split(X_train_test, y_train_test, test_size=0.25, random_state=42)"
   ]
  },
  {
   "cell_type": "code",
   "execution_count": 8,
   "metadata": {},
   "outputs": [],
   "source": [
    "scaler = StandardScaler()\n",
    "X_train_scaled = scaler.fit_transform(X_train)\n",
    "X_val_scaled = scaler.transform(X_val)"
   ]
  },
  {
   "cell_type": "code",
   "execution_count": 9,
   "metadata": {},
   "outputs": [],
   "source": [
    "base_models = [\n",
    "    ('mlp', MLPRegressor(random_state=42, max_iter=500)),\n",
    "    ('lgbm', LGBMRegressor(random_state=42))\n",
    "]"
   ]
  },
  {
   "cell_type": "code",
   "execution_count": 10,
   "metadata": {},
   "outputs": [],
   "source": [
    "stacking_regressor = StackingRegressor(\n",
    "    estimators=base_models,\n",
    "    final_estimator=LinearRegression()\n",
    ")"
   ]
  },
  {
   "cell_type": "code",
   "execution_count": 11,
   "metadata": {},
   "outputs": [
    {
     "name": "stdout",
     "output_type": "stream",
     "text": [
      "[LightGBM] [Info] Auto-choosing col-wise multi-threading, the overhead of testing was 0.002120 seconds.\n",
      "You can set `force_col_wise=true` to remove the overhead.\n",
      "[LightGBM] [Info] Total Bins 1060\n",
      "[LightGBM] [Info] Number of data points in the train set: 106622, number of used features: 9\n",
      "[LightGBM] [Info] Start training from score 7.030842\n",
      "[LightGBM] [Info] Auto-choosing col-wise multi-threading, the overhead of testing was 0.001896 seconds.\n",
      "You can set `force_col_wise=true` to remove the overhead.\n",
      "[LightGBM] [Info] Total Bins 1057\n",
      "[LightGBM] [Info] Number of data points in the train set: 85297, number of used features: 9\n",
      "[LightGBM] [Info] Start training from score 7.030435\n",
      "[LightGBM] [Info] Auto-choosing row-wise multi-threading, the overhead of testing was 0.000336 seconds.\n",
      "You can set `force_row_wise=true` to remove the overhead.\n",
      "And if memory is not enough, you can set `force_col_wise=true`.\n",
      "[LightGBM] [Info] Total Bins 1057\n",
      "[LightGBM] [Info] Number of data points in the train set: 85297, number of used features: 9\n",
      "[LightGBM] [Info] Start training from score 7.031415\n",
      "[LightGBM] [Info] Auto-choosing col-wise multi-threading, the overhead of testing was 0.002155 seconds.\n",
      "You can set `force_col_wise=true` to remove the overhead.\n",
      "[LightGBM] [Info] Total Bins 1055\n",
      "[LightGBM] [Info] Number of data points in the train set: 85298, number of used features: 9\n",
      "[LightGBM] [Info] Start training from score 7.031238\n",
      "[LightGBM] [Info] Auto-choosing col-wise multi-threading, the overhead of testing was 0.001753 seconds.\n",
      "You can set `force_col_wise=true` to remove the overhead.\n",
      "[LightGBM] [Info] Total Bins 1058\n",
      "[LightGBM] [Info] Number of data points in the train set: 85298, number of used features: 9\n",
      "[LightGBM] [Info] Start training from score 7.030867\n",
      "[LightGBM] [Info] Auto-choosing col-wise multi-threading, the overhead of testing was 0.001639 seconds.\n",
      "You can set `force_col_wise=true` to remove the overhead.\n",
      "[LightGBM] [Info] Total Bins 1054\n",
      "[LightGBM] [Info] Number of data points in the train set: 85298, number of used features: 9\n",
      "[LightGBM] [Info] Start training from score 7.030254\n",
      "R^2: 0.5812\n",
      "MSE: 0.0890\n",
      "RMSE: 0.2983\n",
      "MAE: 0.2295\n"
     ]
    }
   ],
   "source": [
    "stacking_regressor.fit(X_train_scaled, y_train)\n",
    "y_pred = stacking_regressor.predict(X_val_scaled)\n",
    "r2 = r2_score(y_val, y_pred)\n",
    "mse = mean_squared_error(y_val, y_pred)\n",
    "rmse = np.sqrt(mse)\n",
    "mae = mean_absolute_error(y_val, y_pred)\n",
    "\n",
    "print(f'R^2: {r2:.4f}')\n",
    "print(f'MSE: {mse:.4f}')\n",
    "print(f'RMSE: {rmse:.4f}')\n",
    "print(f'MAE: {mae:.4f}')"
   ]
  },
  {
   "cell_type": "code",
   "execution_count": null,
   "metadata": {},
   "outputs": [],
   "source": []
  }
 ],
 "metadata": {
  "kernelspec": {
   "display_name": "Python 3",
   "language": "python",
   "name": "python3"
  },
  "language_info": {
   "codemirror_mode": {
    "name": "ipython",
    "version": 3
   },
   "file_extension": ".py",
   "mimetype": "text/x-python",
   "name": "python",
   "nbconvert_exporter": "python",
   "pygments_lexer": "ipython3",
   "version": "3.10.9"
  }
 },
 "nbformat": 4,
 "nbformat_minor": 2
}
