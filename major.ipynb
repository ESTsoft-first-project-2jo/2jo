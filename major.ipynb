{
  "nbformat": 4,
  "nbformat_minor": 0,
  "metadata": {
    "colab": {
      "provenance": [],
      "machine_shape": "hm",
      "gpuType": "A100"
    },
    "kernelspec": {
      "name": "python3",
      "display_name": "Python 3"
    },
    "language_info": {
      "name": "python"
    },
    "accelerator": "GPU"
  },
  "cells": [
    {
      "cell_type": "code",
      "source": [
        "import pandas as pd\n",
        "df = pd.read_csv('/content/seoul_apart_price.csv')\n",
        "#encoding='cp949'\n",
        "#최근 3년간 시공능력 순위 Top5 건설사: 삼성물산,현대건설,대우건설,현대엔지니어링,GS,DL이엔씨,포스코\n",
        "major2 = ['자이','힐스테이트','디에이치','현대','편한세상','아크로','더샵','오티에르','래미안','삼성','푸르지오']\n",
        "#Top 10 건설사 : 롯데건설, SK,한화,HDC\n",
        "major1 = ['롯데','르엘','아이파크','드파인','아펠바움','SK','호반','포레나','꿈에그린','오벨리스크']\n",
        "df['major']=0 #0으로 초기화\n",
        "for i in range(len(df)):\n",
        "    if any(substring in df.loc[i, 'Name'] for substring in major1):\n",
        "        df.loc[i, 'major'] = 1\n",
        "        print(1)\n",
        "    if any(substring in df.loc[i, 'Name'] for substring in major2):\n",
        "        df.loc[i, 'major'] = 2\n",
        "df.to_csv('/content/seoul_apart_price.csv', index=False)"
      ],
      "metadata": {
        "id": "sXZQ28YOxJN8"
      },
      "execution_count": null,
      "outputs": []
    }
  ]
}